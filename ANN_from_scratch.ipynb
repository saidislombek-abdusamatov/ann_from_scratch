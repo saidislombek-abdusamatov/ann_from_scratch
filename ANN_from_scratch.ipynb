{
 "cells": [
  {
   "cell_type": "markdown",
   "id": "114a2e36-b043-4f83-9f39-e96d9fef092a",
   "metadata": {},
   "source": [
    "## Model"
   ]
  },
  {
   "cell_type": "code",
   "execution_count": 1,
   "id": "d7eef554",
   "metadata": {
    "tags": []
   },
   "outputs": [],
   "source": [
    "import numpy as np\n",
    "import sys\n",
    "\n",
    "class ANN:\n",
    "    def __init__(self, input_shape, layers, loss):\n",
    "        self.num_layers = len(layers)\n",
    "        self.layers = [np.prod(input_shape)] + [i[0] for i in layers]\n",
    "        self.activations = [i[1] for i in layers]\n",
    "        self.loss = loss\n",
    "        self.weights = [np.random.randn(i, j) * np.sqrt(1. / j) for i, j in zip(self.layers[1:], self.layers[:-1])]\n",
    "        self.biases = [np.zeros((i, 1)) for i in self.layers[1:]]\n",
    "    \n",
    "    #-------------------------------------- activation functions -----------------------------------------\n",
    "    def sigmoid(self, Z):\n",
    "        return 1. / (1. + np.exp(-Z))\n",
    "    \n",
    "    def relu(self, Z):\n",
    "        return np.maximum(0, Z)\n",
    "    \n",
    "    def tanh(self, Z):\n",
    "        return np.tanh(Z)\n",
    "    \n",
    "    def softmax(self, Z):\n",
    "        return np.exp(Z) / np.sum(np.exp(Z), axis=0)\n",
    "    \n",
    "    def linear(self, Z):\n",
    "        return Z\n",
    "    \n",
    "    #--------------------------------- derivatives of activation functions ---------------------------------\n",
    "    def sigmoid_derivative(self, Z):\n",
    "        return self.sigmoid(Z) * (1 - self.sigmoid(Z))\n",
    "    \n",
    "    def relu_derivative(self, Z):\n",
    "        return np.where(Z <= 0, 0, 1)\n",
    "    \n",
    "    def tanh_derivative(self, Z):\n",
    "        return 1 - np.tanh(Z)**2\n",
    "    \n",
    "    def softmax_derivative(self, Z):\n",
    "        return self.softmax(Z) * (1 - self.softmax(Z))\n",
    "    \n",
    "    def linear_derivative(self, Z):\n",
    "        return np.ones_like(Z)\n",
    "    \n",
    "    #--------------------------------------------- loss functions -----------------------------------------\n",
    "    def mean_squared_error(self, y, y_hat):\n",
    "        return np.mean((y_hat - y) ** 2)\n",
    "    \n",
    "    def binary_cross_entropy(self, y, y_hat):\n",
    "        return -np.mean(y * np.log(y_hat) + (1 - y) * np.log(1 - y_hat))\n",
    "    \n",
    "    def categorical_cross_entropy(self, y, y_hat):\n",
    "        return -np.mean(np.sum(y * np.log(y_hat), axis=0))\n",
    "    \n",
    "    def compute_accuracy(self, y, y_pred):\n",
    "        correct_predictions = np.equal(np.argmax(y, axis=0), np.argmax(y_pred, axis=0))\n",
    "        return np.mean(correct_predictions.astype(float))\n",
    "    \n",
    "    #----------------------------------------------- Feedforward ------------------------------------------\n",
    "    def feed_forward(self, layer_activation):\n",
    "        cache = []\n",
    "        for i in range(self.num_layers):\n",
    "            layer_multiplication = np.matmul(self.weights[i], layer_activation) + self.biases[i]\n",
    "            layer_activation = eval('self.' + self.activations[i] + '(layer_multiplication)')\n",
    "            \n",
    "            cache.append([layer_multiplication, layer_activation])\n",
    "        return cache\n",
    "    \n",
    "    #----------------------------------------------- Backpropagation ------------------------------------------\n",
    "    def back_propagate(self, X, y, cache, m_batch):\n",
    "        grad = []\n",
    "        for i in range(self.num_layers-1,-1,-1):\n",
    "            if i==self.num_layers-1:\n",
    "                delta = cache[-1][1] - y\n",
    "            else:\n",
    "                delta = np.matmul(self.weights[i+1].T, delta) * eval('self.' + self.activations[i] + '_derivative(cache[i][0])')\n",
    "            \n",
    "            if i==0: cache[i-1][1] = X\n",
    "            weight_grad = (1. / m_batch) * np.matmul(delta, cache[i-1][1].T)\n",
    "            bias_grad = (1. / m_batch) * np.sum(delta, axis=1, keepdims=True)\n",
    "            \n",
    "            grad.append([weight_grad, bias_grad])\n",
    "        return grad\n",
    "        \n",
    "    #---------------------------------------------------- Train -----------------------------------------------\n",
    "    def fit(self, X_train, y_train, validation_data=None, epochs=1, batch_size=64,\n",
    "                                learning_rate=1e-3, history=False, shuffle=True):\n",
    "        \n",
    "        # data transpose\n",
    "        X_train = X_train.T\n",
    "        y_train = y_train.T\n",
    "        if validation_data:\n",
    "            X_test = validation_data[0].T\n",
    "            y_test = validation_data[1].T\n",
    "        \n",
    "        # for history\n",
    "        train_losses = []\n",
    "        test_losses = []\n",
    "        train_accuracies = []\n",
    "        test_accuracies = []\n",
    "        \n",
    "        for i in range(epochs):\n",
    "            if shuffle:\n",
    "                permutation = np.random.permutation(X_train.shape[1])\n",
    "                X_train = X_train[:, permutation]\n",
    "                y_train = y_train[:, permutation]\n",
    "            \n",
    "            print(f\"Epoch {i + 1}/{epochs}\")\n",
    "            batches = X_train.shape[1] // batch_size\n",
    "            for j in range(batches):\n",
    "\n",
    "                begin = j * batch_size\n",
    "                end = min(begin + batch_size, X_train.shape[1] - 1)\n",
    "                X = X_train[:, begin:end]\n",
    "                y = y_train[:, begin:end]\n",
    "                m_batch = end - begin\n",
    "\n",
    "                # forward and backward\n",
    "                cache = self.feed_forward(X)\n",
    "                grad = self.back_propagate(X, y, cache, m_batch)\n",
    "\n",
    "                # gradient descent\n",
    "                for k in range(self.num_layers):\n",
    "                    self.weights[k] -= learning_rate * grad[-k-1][0]\n",
    "                    self.biases[k] -= learning_rate * grad[-k-1][1]\n",
    "\n",
    "                # evaluation on training set\n",
    "                cache = self.feed_forward(X)\n",
    "                batch_loss = eval('self.'+self.loss+'(y, cache[-1][1])')\n",
    "                \n",
    "                print(f\"{str(j+1).ljust(len(str(batches)),' ')}/{batches} [{('='*int((j+1)*20/batches)).ljust(20, '.')}] - loss: {round(batch_loss,4)}\" if j==batches-1 else \n",
    "                      f\"{str(j+1).ljust(len(str(batches)),' ')}/{batches} [{('='*int((j+1)*20/batches)+'>').ljust(20, '.')}] - loss: {round(batch_loss,4)}\", end='\\r')\n",
    "\n",
    "            # evaluation on training set\n",
    "            cache = self.feed_forward(X_train)\n",
    "            train_loss = eval('self.'+self.loss+'(y_train, cache[-1][1])')\n",
    "            train_losses.append(train_loss)\n",
    "            train_acc = self.compute_accuracy(y_train, cache[-1][1])\n",
    "            train_accuracies.append(train_acc)\n",
    "            \n",
    "            # fevaluation on test set\n",
    "            if validation_data:\n",
    "                cache = self.feed_forward(X_test)\n",
    "                test_loss = eval('self.'+self.loss+'(y_test, cache[-1][1])')\n",
    "                test_losses.append(test_loss)\n",
    "                test_acc = self.compute_accuracy(y_test, cache[-1][1])\n",
    "                test_accuracies.append(test_acc)\n",
    "                print(f\"{str(j+1).ljust(len(str(batches)),' ')}/{batches} [{('='*int((j+1)*20/batches)).ljust(20, '.')}] - loss: {round(train_loss,4)} - accuracy: {round(train_acc,4)} - val_loss: {round(test_loss,4)} - val_accuracy: {round(test_acc,4)}\")\n",
    "                sys.stdout.flush()\n",
    "            else:\n",
    "                print(f\"{str(j+1).ljust(len(str(batches)),' ')}/{batches} [{('='*int((j+1)*20/batches)).ljust(20, '.')}] - loss: {round(train_loss,4)} - accuracy: {round(train_acc,4)}\")\n",
    "                \n",
    "        if history:\n",
    "            return {\"epoch\":range(1,epochs+1), \"loss\":train_losses, \"val_loss\":test_losses, \"accuracy\":train_accuracies, \"val_accuracy\":test_accuracies}\n",
    "    \n",
    "    #---------------------------------------------------- Predict -----------------------------------------------\n",
    "    def predict(self, test):\n",
    "        return self.feed_forward(test.T)[-1][1].T"
   ]
  },
  {
   "cell_type": "markdown",
   "id": "ca27ac99",
   "metadata": {},
   "source": [
    "## Multi-label classification"
   ]
  },
  {
   "cell_type": "markdown",
   "id": "03c318f8-06e3-49f4-b85a-d30ccbad32d7",
   "metadata": {},
   "source": [
    "### Data preparation"
   ]
  },
  {
   "cell_type": "code",
   "execution_count": 2,
   "id": "881be11f",
   "metadata": {
    "tags": []
   },
   "outputs": [
    {
     "name": "stdout",
     "output_type": "stream",
     "text": [
      "(60000, 784) (60000, 10) (10000, 784) (10000, 10)\n"
     ]
    }
   ],
   "source": [
    "from tensorflow import keras\n",
    "\n",
    "mnist = keras.datasets.mnist\n",
    "\n",
    "(X_train, y_train), (X_test, y_test) = mnist.load_data()\n",
    "\n",
    "X_train = X_train.reshape(-1, 784) / 255.0\n",
    "y_train = y_train.reshape(-1, 1)\n",
    "X_test = X_test.reshape(-1, 784) / 255.0\n",
    "y_test  = y_test.reshape(-1, 1)\n",
    "\n",
    "y_train = np.eye(10)[y_train.astype('int32')]\n",
    "y_train = y_train.reshape(60000, 10)\n",
    "\n",
    "y_test = np.eye(10)[y_test.astype('int32')]\n",
    "y_test = y_test.reshape(10000, 10)\n",
    "\n",
    "print(X_train.shape, y_train.shape, X_test.shape, y_test.shape)"
   ]
  },
  {
   "cell_type": "markdown",
   "id": "20668ee9-3bcd-498b-b174-2e3d90d7f51c",
   "metadata": {
    "tags": []
   },
   "source": [
    "### Train"
   ]
  },
  {
   "cell_type": "code",
   "execution_count": 3,
   "id": "4148b286",
   "metadata": {
    "tags": []
   },
   "outputs": [
    {
     "name": "stdout",
     "output_type": "stream",
     "text": [
      "Epoch 1/10\n",
      "937/937 [====================] - loss: 0.2557 - accuracy: 0.9266 - val_loss: 0.252 - val_accuracy: 0.9304\n",
      "Epoch 2/10\n",
      "937/937 [====================] - loss: 0.1939 - accuracy: 0.9432 - val_loss: 0.1969 - val_accuracy: 0.9429\n",
      "Epoch 3/10\n",
      "937/937 [====================] - loss: 0.1497 - accuracy: 0.9572 - val_loss: 0.1547 - val_accuracy: 0.9543\n",
      "Epoch 4/10\n",
      "937/937 [====================] - loss: 0.1354 - accuracy: 0.9606 - val_loss: 0.1434 - val_accuracy: 0.9573\n",
      "Epoch 5/10\n",
      "937/937 [====================] - loss: 0.1108 - accuracy: 0.968 - val_loss: 0.1237 - val_accuracy: 0.9626\n",
      "Epoch 6/10\n",
      "937/937 [====================] - loss: 0.1005 - accuracy: 0.9712 - val_loss: 0.1154 - val_accuracy: 0.9648\n",
      "Epoch 7/10\n",
      "937/937 [====================] - loss: 0.0898 - accuracy: 0.9743 - val_loss: 0.1078 - val_accuracy: 0.9672\n",
      "Epoch 8/10\n",
      "937/937 [====================] - loss: 0.0789 - accuracy: 0.9777 - val_loss: 0.0988 - val_accuracy: 0.9689\n",
      "Epoch 9/10\n",
      "937/937 [====================] - loss: 0.0727 - accuracy: 0.98 - val_loss: 0.0947 - val_accuracy: 0.9707\n",
      "Epoch 10/10\n",
      "937/937 [====================] - loss: 0.0656 - accuracy: 0.982 - val_loss: 0.0895 - val_accuracy: 0.9719\n"
     ]
    }
   ],
   "source": [
    "model = ANN(input_shape = X_train.shape[1:], \n",
    "    layers = [\n",
    "        [64 , 'sigmoid'],\n",
    "        [10 , 'softmax']\n",
    "    ],\n",
    "    loss='categorical_cross_entropy')\n",
    "\n",
    "history = model.fit(X_train, y_train, validation_data=(X_test, y_test), epochs=10, batch_size=64, learning_rate=0.5, history=True)"
   ]
  },
  {
   "cell_type": "markdown",
   "id": "211ae6fd-ffb1-4fe3-bbd6-69ffd97b6e1e",
   "metadata": {},
   "source": [
    "### Evaluation"
   ]
  },
  {
   "cell_type": "code",
   "execution_count": 4,
   "id": "7ae3c815",
   "metadata": {
    "tags": []
   },
   "outputs": [
    {
     "data": {
      "image/png": "[encoded data removed]",
      "text/plain": [
       "<Figure size 1000x300 with 2 Axes>"
      ]
     },
     "metadata": {},
     "output_type": "display_data"
    }
   ],
   "source": [
    "import matplotlib.pyplot as plt\n",
    "\n",
    "fig, ax = plt.subplots(1, 2, figsize=(10,3))\n",
    "ax[0].plot(history[\"epoch\"], history[\"loss\"], label=\"Train loss\")\n",
    "ax[0].plot(history[\"epoch\"], history[\"val_loss\"], label=\"Validation loss\")\n",
    "ax[0].legend()\n",
    "ax[1].plot(history[\"epoch\"], history[\"accuracy\"], label=\"Train accuracy\")\n",
    "ax[1].plot(history[\"epoch\"], history[\"val_accuracy\"], label=\"Validation accuracy\")\n",
    "ax[1].legend()\n",
    "fig.suptitle('Loss and Accuracy', fontsize=16)\n",
    "plt.show()"
   ]
  }
 ],
 "metadata": {
  "kernelspec": {
   "display_name": "Python 3 (ipykernel)",
   "language": "python",
   "name": "python3"
  },
  "language_info": {
   "codemirror_mode": {
    "name": "ipython",
    "version": 3
   },
   "file_extension": ".py",
   "mimetype": "text/x-python",
   "name": "python",
   "nbconvert_exporter": "python",
   "pygments_lexer": "ipython3",
   "version": "3.10.11"
  }
 },
 "nbformat": 4,
 "nbformat_minor": 5
}
